{
  "nbformat": 4,
  "nbformat_minor": 0,
  "metadata": {
    "colab": {
      "provenance": []
    },
    "kernelspec": {
      "name": "python3",
      "display_name": "Python 3"
    },
    "language_info": {
      "name": "python"
    }
  },
  "cells": [
    {
      "cell_type": "markdown",
      "source": [
        "Part 1: Understanding String Literals\n",
        "1. Create three different strings using each type of quotation:\n",
        "o Single quotes ('example')\n",
        "o Double quotes (\"example\")\n",
        "o Triple quotes (\"\"\"example\"\"\")\n"
      ],
      "metadata": {
        "id": "A52RnuavzV0K"
      }
    },
    {
      "cell_type": "code",
      "source": [
        "single_quoted_string = 'Hi, my self Yousra Khan.'\n",
        "double_quoted_string = \"Where pixels meet code, I craft captivating experiences as a frontend developer and graphic designer.\"\n",
        "triple_quoted_string = \"\"\"Inspired by the pedagogical prowess of Sir Ameen Alam and Sir Hamza Alvi,\n",
        "nurtured by the guidance of two exceptional mentors,\n",
        "I aim to harness the transformative power of education.\"\"\"\n",
        "\n",
        "print(single_quoted_string)\n",
        "print(double_quoted_string)\n",
        "print(triple_quoted_string)"
      ],
      "metadata": {
        "colab": {
          "base_uri": "https://localhost:8080/"
        },
        "id": "Bid_5ozMzXsR",
        "outputId": "ab63388f-5599-45f2-ba21-e0cb0143585a"
      },
      "execution_count": null,
      "outputs": [
        {
          "output_type": "stream",
          "name": "stdout",
          "text": [
            "Hi, my self Yousra Khan.\n",
            "Where pixels meet code, I craft captivating experiences as a frontend developer and graphic designer.\n",
            "Inspired by the pedagogical prowess of Sir Ameen Alam and Sir Hamza Alvi, \n",
            "nurtured by the guidance of two exceptional mentors,\n",
            "I aim to harness the transformative power of education.\n"
          ]
        }
      ]
    },
    {
      "cell_type": "markdown",
      "source": [
        "2. Explain in your own words: What is the advantage of each type of quotation?"
      ],
      "metadata": {
        "id": "ompbWOM63A6Z"
      }
    },
    {
      "cell_type": "markdown",
      "source": [
        "**Single Quotes:** Simple and clean for short strings.If string doesn’t contain apostrophes ('), using single quotes keeps it neat.\n",
        "\n",
        "\n"
      ],
      "metadata": {
        "id": "xIPQ-t4Q3a9O"
      }
    },
    {
      "cell_type": "markdown",
      "source": [
        "**Double Quotes:** It allow apostrophes (') inside the string, like \"Hello from Canada! It's great to meet you, where are you from? \" However, single quotes do not support apostrophes, as it results in an error."
      ],
      "metadata": {
        "id": "6vGMfKXv8M82"
      }
    },
    {
      "cell_type": "markdown",
      "source": [
        "**Triple quotes:** It supports multi-line strings, preserves formatting (line breaks, spaces)also helpful for long strings, like blogs, docs, stories."
      ],
      "metadata": {
        "id": "p6kHffQx8OT1"
      }
    },
    {
      "cell_type": "markdown",
      "source": [
        "3. Write a string that contains both single and double quotes inside it. Example: She said,\n",
        "\"I'm going to the store.\"\n"
      ],
      "metadata": {
        "id": "0VRJhAbY9rg0"
      }
    },
    {
      "cell_type": "code",
      "source": [
        "ramadan = \"Tomorrow's the first sehri.\"\n",
        "print(ramadan)\n"
      ],
      "metadata": {
        "colab": {
          "base_uri": "https://localhost:8080/"
        },
        "id": "vjpEjQVX-76t",
        "outputId": "d27a0f42-40dc-47c6-be33-e69df3cc54a7"
      },
      "execution_count": null,
      "outputs": [
        {
          "output_type": "stream",
          "name": "stdout",
          "text": [
            "Tomorrow's the first sehri.\n"
          ]
        }
      ]
    },
    {
      "cell_type": "markdown",
      "source": [
        "4. Create a multi-line string using triple quotes that describes your favorite hobby."
      ],
      "metadata": {
        "id": "hvuQjE3O_7Ec"
      }
    },
    {
      "cell_type": "code",
      "source": [
        "fav_hobby = \"\"\"I'm obsessed with transforming ideas into interactive works of art.\n",
        "When I'm not working, you can find me experimenting with frontend development\n",
        "and graphic design to create mesmerizing experiences that spark imagination and curiosity.\n",
        "It's my go-to hobby for unleashing creativity and having fun! \"\"\"\n",
        "print(fav_hobby)"
      ],
      "metadata": {
        "colab": {
          "base_uri": "https://localhost:8080/"
        },
        "id": "uXErZWVp_8bb",
        "outputId": "4d4646a6-4a30-4052-f1ac-f80a7f1adb6f"
      },
      "execution_count": null,
      "outputs": [
        {
          "output_type": "stream",
          "name": "stdout",
          "text": [
            "I'm obsessed with transforming ideas into interactive works of art. \n",
            "When I'm not working, you can find me experimenting with frontend development\n",
            "and graphic design to create mesmerizing experiences that spark imagination and curiosity.\n",
            "It's my go-to hobby for unleashing creativity and having fun! \n"
          ]
        }
      ]
    },
    {
      "cell_type": "markdown",
      "source": [
        "Part 2: String Methods Practice"
      ],
      "metadata": {
        "id": "vZxSdHnRBKQ7"
      }
    },
    {
      "cell_type": "markdown",
      "source": [
        "1. Create a variable full_name with your full name (first and last name). Then write code\n",
        "to:\n",
        "o Print your name in all uppercase letters\n",
        "o Print your name in all lowercase letters\n",
        "o Print your name with the first letter of each name capitalized"
      ],
      "metadata": {
        "id": "Hs1SI85uBdyq"
      }
    },
    {
      "cell_type": "code",
      "source": [
        "full_name = \"Yousra Khan\"\n",
        "print(full_name.upper())\n",
        "print(full_name.lower())\n",
        "print(full_name.title())"
      ],
      "metadata": {
        "colab": {
          "base_uri": "https://localhost:8080/"
        },
        "id": "l7yEJKb5Bhli",
        "outputId": "4844fe27-0cda-4e65-8e79-d62ba04d0524"
      },
      "execution_count": null,
      "outputs": [
        {
          "output_type": "stream",
          "name": "stdout",
          "text": [
            "YOUSRA KHAN\n",
            "yousra khan\n",
            "Yousra Khan\n"
          ]
        }
      ]
    },
    {
      "cell_type": "markdown",
      "source": [
        "2. Create a variable messy_text = \" Python programming is fun! \" Then write code\n",
        "to:\n",
        "o Remove all the extra spaces at the beginning and end\n",
        "o Replace \"fun\" with \"amazing\"\n",
        "o Count how many times the letter 'i' appears"
      ],
      "metadata": {
        "id": "SM5gEG_uCOJq"
      }
    },
    {
      "cell_type": "code",
      "source": [
        "messy_text = \" Python programming is fun! \"\n",
        "print(messy_text.strip())\n",
        "print(messy_text.replace(\"fun\", \"amazing\"))\n",
        "print(messy_text.count(\"i\"))"
      ],
      "metadata": {
        "colab": {
          "base_uri": "https://localhost:8080/"
        },
        "id": "fCwy5jJRCPki",
        "outputId": "a30e208d-ee58-4cc0-8c37-fa93b2522064"
      },
      "execution_count": null,
      "outputs": [
        {
          "output_type": "stream",
          "name": "stdout",
          "text": [
            "Python programming is fun!\n",
            " Python programming is amazing! \n",
            "2\n"
          ]
        }
      ]
    },
    {
      "cell_type": "markdown",
      "source": [
        "3. Create a variable sentence = \"The quick brown fox jumps over the lazy dog\"\n",
        "Then write code to:\n",
        "o Split this sentence into a list of words\n",
        "o Join the words back together with dashes between them\n",
        "o Check if the sentence starts with \"The\"\n",
        "o Find the position of the word \"fox\"\n"
      ],
      "metadata": {
        "id": "Y1HOa4ovCsU-"
      }
    },
    {
      "cell_type": "code",
      "source": [
        "sentence = \"The quick brown fox jumps over the lazy dog\"\n",
        "print(sentence.split())\n",
        "print(\"-\".join(sentence.split()))\n",
        "print(sentence.startswith(\"The\"))\n",
        "print(sentence.find(\"fox\"))"
      ],
      "metadata": {
        "colab": {
          "base_uri": "https://localhost:8080/"
        },
        "id": "cNJJFousCvwC",
        "outputId": "430e19cd-89b0-4ca8-9af7-2d48354d10c7"
      },
      "execution_count": null,
      "outputs": [
        {
          "output_type": "stream",
          "name": "stdout",
          "text": [
            "['The', 'quick', 'brown', 'fox', 'jumps', 'over', 'the', 'lazy', 'dog']\n",
            "The-quick-brown-fox-jumps-over-the-lazy-dog\n",
            "True\n",
            "16\n"
          ]
        }
      ]
    },
    {
      "cell_type": "markdown",
      "source": [
        "Part 3: F-Strings"
      ],
      "metadata": {
        "id": "tG1bLdXvEsfa"
      }
    },
    {
      "cell_type": "markdown",
      "source": [
        "1. Create variables for:\n",
        "o Your name\n",
        "o Your age\n",
        "o Your favorite programming language\n",
        "Then use f-strings to create these sentences:\n",
        "o \"My name is {your_name} and I am {your_age} years old.\"\n",
        "o \"I enjoy programming in {language}, it's my favorite!\"\n",
        "o Create a math expression inside an f-string: \"In 5 years, I will be {age + 5} years\n",
        "old.\"\n"
      ],
      "metadata": {
        "id": "jRYKg2jXEwih"
      }
    },
    {
      "cell_type": "code",
      "source": [
        "myName: str = 'Yousra Khan'\n",
        "myAge: int = 22\n",
        "myFavProgrammingLanguage: str = 'Python'\n",
        "print(f\"My name is {myName} and I am {myAge} years old.\")\n",
        "print(f\"I enjoy programming in {myFavProgrammingLanguage}, it's my favorite!\")\n",
        "print(f\"In 5 years, I will be {myAge + 5} years old.\")"
      ],
      "metadata": {
        "colab": {
          "base_uri": "https://localhost:8080/"
        },
        "id": "PlHQ74DQE5Ch",
        "outputId": "5f71e564-adc9-444a-fdea-3d96f6762ea7"
      },
      "execution_count": null,
      "outputs": [
        {
          "output_type": "stream",
          "name": "stdout",
          "text": [
            "My name is Yousra Khan and I am 22 years old.\n",
            "I enjoy programming in Python, it's my favorite!\n",
            "In 5 years, I will be 27 years old.\n"
          ]
        }
      ]
    },
    {
      "cell_type": "markdown",
      "source": [
        "Part 4: Combining String Methods with F-Strings"
      ],
      "metadata": {
        "id": "T699KU59Gbra"
      }
    },
    {
      "cell_type": "markdown",
      "source": [
        "Create a program that:\n",
        "1. Asks for user input about their first name, last name, and birth year\n",
        "2. Uses string methods to properly capitalize their name\n",
        "3. Uses f-strings to create a profile message: \"Profile: {First Last}, Age: {calculated age},\n",
        "Username: {first initial + last name + birth year}\""
      ],
      "metadata": {
        "id": "K0H2dQXpGfUp"
      }
    },
    {
      "cell_type": "code",
      "source": [
        "first_name: str = input(\"Enter your first name: \")\n",
        "last_name: str = input(\"Enter your last name: \")\n",
        "birth_year: int = int(input(\"Enter your birth year: \"))"
      ],
      "metadata": {
        "colab": {
          "base_uri": "https://localhost:8080/"
        },
        "id": "j4l53GFZGknA",
        "outputId": "abaecbd1-6e7c-4737-fc35-c3f29767679e"
      },
      "execution_count": null,
      "outputs": [
        {
          "name": "stdout",
          "output_type": "stream",
          "text": [
            "Enter your first name: Yousra\n",
            "Enter your last name: Khan\n",
            "Enter your birth year: 1992\n"
          ]
        }
      ]
    },
    {
      "cell_type": "code",
      "source": [
        "first_name: str = input(\"Enter your first name: \")\n",
        "last_name: str = input(\"Enter your last name: \")\n",
        "birth_year: int = int(input(\"Enter your birth year: \"))\n",
        "\n",
        "print(first_name.capitalize() + \" \" + last_name.capitalize())\n"
      ],
      "metadata": {
        "colab": {
          "base_uri": "https://localhost:8080/"
        },
        "id": "bdG6ceXTH1jH",
        "outputId": "47e148fb-ed7c-44a4-af57-5cbc762d837c"
      },
      "execution_count": null,
      "outputs": [
        {
          "output_type": "stream",
          "name": "stdout",
          "text": [
            "Enter your first name: yousra\n",
            "Enter your last name: khan\n",
            "Enter your birth year: 1992\n",
            "Yousra Khan\n"
          ]
        }
      ]
    },
    {
      "cell_type": "code",
      "source": [
        "first_name: str = input(\"Enter your first name: \")\n",
        "last_name: str = input(\"Enter your last name: \")\n",
        "birth_year: int = int(input(\"Enter your birth year: \"))\n",
        "print(f\"Profile: {first_name.title()} {last_name.title()}, Age: {2023 - birth_year}, Username: {first_name[0].lower() + last_name.lower() + str(birth_year)}\")"
      ],
      "metadata": {
        "colab": {
          "base_uri": "https://localhost:8080/"
        },
        "id": "cBGZ0TwhHkmg",
        "outputId": "0d72f1d3-74bd-4457-cf4e-df63c2eaab0b"
      },
      "execution_count": null,
      "outputs": [
        {
          "output_type": "stream",
          "name": "stdout",
          "text": [
            "Enter your first name: yousra\n",
            "Enter your last name: khan\n",
            "Enter your birth year: 1992\n",
            "Profile: Yousra Khan, Age: 31, Username: ykhan1992\n"
          ]
        }
      ]
    }
  ]
}